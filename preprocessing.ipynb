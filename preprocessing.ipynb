{
 "cells": [
  {
   "metadata": {},
   "cell_type": "markdown",
   "source": "# 결측값 확인",
   "id": "795bc61762c01fac"
  },
  {
   "metadata": {
    "ExecuteTime": {
     "end_time": "2024-12-14T03:59:48.435403Z",
     "start_time": "2024-12-14T03:59:47.922247Z"
    }
   },
   "cell_type": "code",
   "source": [
    "import pandas as pd\n",
    "\n",
    "\n",
    "def check_missing_values(df):\n",
    "    missing_counts = df.isnull().sum()\n",
    "    missing_columns = missing_counts[missing_counts > 0]\n",
    "\n",
    "    if len(missing_columns) == 0:\n",
    "        print(\"결측값이 없습니다.\")\n",
    "        return False\n",
    "    else:\n",
    "        print(\"\\n결측값이 있는 열:\")\n",
    "        for column, count in missing_columns.items():\n",
    "            ratio = (count / len(df)) * 100\n",
    "            print(f\"- {column}: {count}개 (전체 데이터의 {ratio:.2f}%)\")\n",
    "        return True\n",
    "\n",
    "\n",
    "years = [2020, 2021, 2022, 2023]\n",
    "\n",
    "for year in years:\n",
    "    print(f\"{year}년 전기차 충전량 데이터 결측값 확인\")\n",
    "    df = pd.read_csv(f\"data/hourly_ev_charge_{year}.csv\")\n",
    "    check_missing_values(df)\n",
    "    print(f\"{year}년 기온 데이터 결측값 확인\")\n",
    "    df = pd.read_csv(f\"data/hourly_temp_{year}.csv\")\n",
    "    check_missing_values(df[[\"기온(°C)\"]])\n",
    "    print(\"- - -\")"
   ],
   "id": "94f77d523feac924",
   "outputs": [
    {
     "name": "stdout",
     "output_type": "stream",
     "text": [
      "2020년 전기차 충전량 데이터 결측값 확인\n",
      "결측값이 없습니다.\n",
      "2020년 기온 데이터 결측값 확인\n",
      "결측값이 없습니다.\n",
      "- - -\n",
      "2021년 전기차 충전량 데이터 결측값 확인\n",
      "결측값이 없습니다.\n",
      "2021년 기온 데이터 결측값 확인\n",
      "결측값이 없습니다.\n",
      "- - -\n",
      "2022년 전기차 충전량 데이터 결측값 확인\n",
      "결측값이 없습니다.\n",
      "2022년 기온 데이터 결측값 확인\n",
      "결측값이 없습니다.\n",
      "- - -\n",
      "2023년 전기차 충전량 데이터 결측값 확인\n",
      "결측값이 없습니다.\n",
      "2023년 기온 데이터 결측값 확인\n",
      "결측값이 없습니다.\n",
      "- - -\n"
     ]
    }
   ],
   "execution_count": 1
  },
  {
   "metadata": {},
   "cell_type": "markdown",
   "source": "# 전기차 충전량 데이터 전처리",
   "id": "bb1143fe3b7eb579"
  },
  {
   "metadata": {
    "ExecuteTime": {
     "end_time": "2024-12-14T04:00:15.075077Z",
     "start_time": "2024-12-14T04:00:08.425831Z"
    }
   },
   "cell_type": "code",
   "source": [
    "from holidayskr import is_holiday\n",
    "import warnings\n",
    "\n",
    "warnings.filterwarnings(\"ignore\", category=UserWarning)\n",
    "\n",
    "for year in years:\n",
    "    df = pd.read_csv(f\"data/hourly_ev_charge_{year}.csv\")\n",
    "\n",
    "    # 시간대별 충전량 합산\n",
    "    time_columns = [f\"{i}시\" for i in range(24)]\n",
    "    df[\"충전량\"] = df[time_columns].sum(axis=1)\n",
    "\n",
    "    # 일별 충전량 계산\n",
    "    daily_ev_charge = df.groupby(\"일자\")[\"충전량\"].sum().reset_index()\n",
    "    daily_ev_charge.rename(columns={\"일자\": \"날짜\"}, inplace=True)\n",
    "\n",
    "    # 날짜 형식으로 변환\n",
    "    daily_ev_charge[\"날짜\"] = pd.to_datetime(daily_ev_charge[\"날짜\"])\n",
    "\n",
    "    # 주말과 공휴일 제거\n",
    "    daily_ev_charge = daily_ev_charge[\n",
    "        ~daily_ev_charge[\"날짜\"].dt.weekday.isin([5, 6])  # 주말 제거\n",
    "        & ~daily_ev_charge[\"날짜\"]\n",
    "        .dt.strftime(\"%Y-%m-%d\")\n",
    "        .apply(is_holiday)  # 공휴일 제거\n",
    "        ]\n",
    "\n",
    "    # 결과 저장\n",
    "    daily_ev_charge.to_csv(\n",
    "        f\"data/daily_ev_charge_{year}.csv\", index=False, encoding=\"utf-8\"\n",
    "    )"
   ],
   "id": "c2ebe011e2b7cd30",
   "outputs": [],
   "execution_count": 2
  },
  {
   "metadata": {},
   "cell_type": "markdown",
   "source": "# 기상청 기온 데이터 전처리",
   "id": "8ec379bb19f36426"
  },
  {
   "metadata": {
    "ExecuteTime": {
     "end_time": "2024-12-14T04:00:32.811722Z",
     "start_time": "2024-12-14T04:00:27.109388Z"
    }
   },
   "cell_type": "code",
   "source": [
    "for year in years:\n",
    "    df = pd.read_csv(f\"data/hourly_temp_{year}.csv\")\n",
    "\n",
    "    # 날짜/시간 변환\n",
    "    df[\"일시\"] = pd.to_datetime(df[\"일시\"])\n",
    "    df[\"날짜\"] = df[\"일시\"].dt.date\n",
    "\n",
    "    # 일평균 기온 계산\n",
    "    daily_temp_data = df.groupby(\"날짜\")[\"기온(°C)\"].mean().round(2).reset_index()\n",
    "    daily_temp_data.rename(columns={\"기온(°C)\": \"기온\"}, inplace=True)\n",
    "\n",
    "    # 날짜를 datetime 형식으로 변환\n",
    "    daily_temp_data[\"날짜\"] = pd.to_datetime(daily_temp_data[\"날짜\"])\n",
    "\n",
    "    # 주말과 공휴일 제거\n",
    "    daily_temp_data = daily_temp_data[\n",
    "        ~daily_temp_data[\"날짜\"].dt.weekday.isin([5, 6])  # 주말 제거\n",
    "        & ~daily_temp_data[\"날짜\"]\n",
    "        .dt.strftime(\"%Y-%m-%d\")\n",
    "        .apply(is_holiday)  # 공휴일 제거\n",
    "        ]\n",
    "\n",
    "    # 결과 저장\n",
    "    daily_temp_data.to_csv(f\"data/daily_temp_{year}.csv\", index=False, encoding=\"utf-8\")"
   ],
   "id": "c04ad0bb3b2b283e",
   "outputs": [],
   "execution_count": 3
  }
 ],
 "metadata": {
  "kernelspec": {
   "display_name": "Python 3",
   "language": "python",
   "name": "python3"
  },
  "language_info": {
   "codemirror_mode": {
    "name": "ipython",
    "version": 2
   },
   "file_extension": ".py",
   "mimetype": "text/x-python",
   "name": "python",
   "nbconvert_exporter": "python",
   "pygments_lexer": "ipython2",
   "version": "2.7.6"
  }
 },
 "nbformat": 4,
 "nbformat_minor": 5
}
